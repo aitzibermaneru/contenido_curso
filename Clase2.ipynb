{
 "cells": [
  {
   "cell_type": "code",
   "execution_count": 3,
   "metadata": {},
   "outputs": [
    {
     "name": "stdout",
     "output_type": "stream",
     "text": [
      "24\n",
      "Hola me llamo Aitziber y tengo 24 años\n",
      "Hola me llamo Ana y curso Ingles,Matematicas,Latin\n"
     ]
    }
   ],
   "source": [
    "class Persona:\n",
    "    def __init__(self,nombre, edad):\n",
    "        self.nombre = nombre\n",
    "        self.edad   = edad\n",
    "\n",
    "    def saludar(self):\n",
    "        print(f'Hola me llamo {self.nombre} y tengo {self.edad} años')\n",
    "\n",
    "ciudadano_1 = Persona(\"Aitziber\", 24)\n",
    "print(ciudadano_1.edad)\n",
    "ciudadano_1.saludar()\n",
    "\n",
    "\n",
    "class Estudiante(Persona):\n",
    "    def __init__(self, nombre, edad, asignaturas):\n",
    "        super().__init__(nombre, edad)\n",
    "        self.asignaturas = asignaturas\n",
    "    def saludar(self):\n",
    "        asignatura_texto = \",\".join(self.asignaturas)\n",
    "        print(f'Hola me llamo {self.nombre} y curso {asignatura_texto}')\n",
    "\n",
    "alumno_1 = Estudiante('Ana',22,['Ingles', 'Matematicas', 'Latin'])\n",
    "alumno_1.saludar()\n",
    "\n",
    "\n"
   ]
  },
  {
   "cell_type": "code",
   "execution_count": 4,
   "metadata": {},
   "outputs": [
    {
     "name": "stderr",
     "output_type": "stream",
     "text": [
      "Fontconfig warning: ignoring UTF-8: not a valid region tag\n",
      "Matplotlib is building the font cache; this may take a moment.\n"
     ]
    }
   ],
   "source": [
    "import numpy as np\n",
    "import matplotlib.pyplot as plt\n",
    "import time"
   ]
  },
  {
   "cell_type": "code",
   "execution_count": 7,
   "metadata": {},
   "outputs": [
    {
     "name": "stdout",
     "output_type": "stream",
     "text": [
      "Solucion bucles 963.179253962538, calculada en 1.0480880737304688 ms\n",
      "Solucion bucles 963.1792539625393, calculada en 0.17905235290527344 ms\n"
     ]
    }
   ],
   "source": [
    "n = 1000\n",
    "U = np.random.rand(n)\n",
    "V = np.random.choice(range(5),n)\n",
    "\n",
    "W = 0\n",
    "t1 = time.time()\n",
    "for i in range(n):\n",
    "    W = W + U[i]*V[i]\n",
    "t2 = time.time()\n",
    "print(f'Solucion bucles {W}, calculada en {1000*(t2-t1)} ms')\n",
    "\n",
    "w = 0\n",
    "t1 = time.time()\n",
    "W = np.dot(U,V)\n",
    "t2 = time.time()\n",
    "print(f'Solucion bucles {W}, calculada en {1000*(t2-t1)} ms')\n",
    "\n"
   ]
  },
  {
   "cell_type": "code",
   "execution_count": 8,
   "metadata": {},
   "outputs": [
    {
     "name": "stdout",
     "output_type": "stream",
     "text": [
      "Solucion calculada en 1094.6519374847412 ms\n"
     ]
    }
   ],
   "source": [
    "n = 1000\n",
    "U = np.random.rand(n)\n",
    "A = np.random.choice(range(1,5),(n,n))\n",
    "\n",
    "\n",
    "V = np.zeros_like(U)\n",
    "t1 = time.time()\n",
    "for i in range(n):\n",
    "    for j in range(n):\n",
    "        V[i] = V[i] + A[i,j]*U[j]\n",
    "\n",
    "t2 = time.time()\n",
    "print(f'Solucion calculada en {1000*(t2-t1)} ms')\n",
    "\n"
   ]
  },
  {
   "cell_type": "code",
   "execution_count": 9,
   "metadata": {},
   "outputs": [
    {
     "name": "stdout",
     "output_type": "stream",
     "text": [
      "1.6071796417236328 ms\n",
      "0.5321502685546875 ms\n"
     ]
    }
   ],
   "source": [
    "n = 1000\n",
    "X = np.linspace(-1, 1, n)\n",
    "Y = np.zeros_like(X)\n",
    "\n",
    "t1 = time.time()\n",
    "for i in range(n):\n",
    "    Y[i] = np.sin(X[i])\n",
    "t2 = time.time()\n",
    "print(1000*(t2-t1),'ms')\n",
    "\n",
    "t1 = time.time()\n",
    "Y = np.sin(X)\n",
    "t2 = time.time()\n",
    "print(1000*(t2-t1),'ms')\n",
    "\n"
   ]
  },
  {
   "cell_type": "code",
   "execution_count": 10,
   "metadata": {},
   "outputs": [
    {
     "name": "stdout",
     "output_type": "stream",
     "text": [
      "[4 5 3 4]\n",
      "[4 5 3 5]\n",
      "[4 4 4 5]\n"
     ]
    },
    {
     "data": {
      "text/plain": [
       "array([[66, 70, 68],\n",
       "       [70, 75, 73],\n",
       "       [68, 73, 73]])"
      ]
     },
     "execution_count": 10,
     "metadata": {},
     "output_type": "execute_result"
    }
   ],
   "source": [
    "A = np.random.choice(range(1,6), (3,4))\n",
    "for fila in A:\n",
    "    print(fila)\n",
    "\n",
    "A.T \n",
    "A@A.T"
   ]
  },
  {
   "cell_type": "code",
   "execution_count": 11,
   "metadata": {},
   "outputs": [
    {
     "name": "stdout",
     "output_type": "stream",
     "text": [
      "[13 11  7 11 11 13 14 13  8 10]\n"
     ]
    }
   ],
   "source": [
    "U = np.random.choice(range(10),10)\n",
    "k = 6\n",
    "print(k+U)"
   ]
  },
  {
   "cell_type": "code",
   "execution_count": 17,
   "metadata": {},
   "outputs": [
    {
     "name": "stdout",
     "output_type": "stream",
     "text": [
      "[[1 3 2 5]\n",
      " [2 3 0 2]\n",
      " [3 4 1 3]\n",
      " [4 3 5 0]\n",
      " [1 2 1 1]]\n"
     ]
    }
   ],
   "source": [
    "A = np.random.choice(range(6),(5,4))\n",
    "B = np.ones(4).reshape(1,4)\n",
    "\n",
    "print(A)"
   ]
  },
  {
   "cell_type": "code",
   "execution_count": 14,
   "metadata": {},
   "outputs": [
    {
     "name": "stdout",
     "output_type": "stream",
     "text": [
      "A= [[4 2 2 1]\n",
      " [4 0 3 0]\n",
      " [4 5 1 3]\n",
      " [0 5 4 1]\n",
      " [1 3 3 3]]\n",
      "B= [1. 1. 1. 1.]\n"
     ]
    }
   ],
   "source": [
    "C = A + B\n",
    "\n",
    "print('A=', A, A.shape)\n",
    "print('B=', B, B.shape)"
   ]
  },
  {
   "cell_type": "code",
   "execution_count": null,
   "metadata": {},
   "outputs": [],
   "source": []
  },
  {
   "cell_type": "code",
   "execution_count": null,
   "metadata": {},
   "outputs": [],
   "source": []
  }
 ],
 "metadata": {
  "kernelspec": {
   "display_name": "DataScience",
   "language": "python",
   "name": "python3"
  },
  "language_info": {
   "codemirror_mode": {
    "name": "ipython",
    "version": 3
   },
   "file_extension": ".py",
   "mimetype": "text/x-python",
   "name": "python",
   "nbconvert_exporter": "python",
   "pygments_lexer": "ipython3",
   "version": "3.12.8"
  }
 },
 "nbformat": 4,
 "nbformat_minor": 2
}
