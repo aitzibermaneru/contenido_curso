{
 "cells": [
  {
   "cell_type": "markdown",
   "id": "1309e541-1f00-439c-823d-cd13901e937b",
   "metadata": {},
   "source": [
    "# Clase 1: Curso IA "
   ]
  },
  {
   "cell_type": "markdown",
   "id": "e11d0edf-2c95-4355-8ef9-39c8cb92c2fe",
   "metadata": {},
   "source": [
    "## Operadores"
   ]
  },
  {
   "cell_type": "code",
   "execution_count": 4,
   "id": "00bdb62f-a7be-48f3-80ea-6beb1fe358a3",
   "metadata": {},
   "outputs": [
    {
     "name": "stdout",
     "output_type": "stream",
     "text": [
      "15\n",
      "Hola Hola Hola Hola Hola \n"
     ]
    }
   ],
   "source": [
    "a = 3\n",
    "b = 5 \n",
    "A = 'Hola '\n",
    "print(a*b)\n",
    "print(5*A)"
   ]
  },
  {
   "cell_type": "code",
   "execution_count": 7,
   "id": "c35e0897-ee3d-46ba-a70e-7e04b9389210",
   "metadata": {},
   "outputs": [
    {
     "name": "stdout",
     "output_type": "stream",
     "text": [
      "True\n"
     ]
    }
   ],
   "source": [
    "print(a==b or b>a)"
   ]
  },
  {
   "cell_type": "code",
   "execution_count": 8,
   "id": "64613bad-4d8f-44e7-b469-97df9a7ea3e5",
   "metadata": {},
   "outputs": [
    {
     "name": "stdout",
     "output_type": "stream",
     "text": [
      "True\n"
     ]
    }
   ],
   "source": [
    "print((a==b) ^ (b>a))"
   ]
  },
  {
   "cell_type": "code",
   "execution_count": 10,
   "id": "cd28cd9e-1954-4aad-9e8f-3de7b1b39394",
   "metadata": {},
   "outputs": [
    {
     "name": "stdout",
     "output_type": "stream",
     "text": [
      "5 1 123\n"
     ]
    }
   ],
   "source": [
    "a = 5.23\n",
    "print(int(a),int(True),int('123'))"
   ]
  },
  {
   "cell_type": "markdown",
   "id": "fad59203-bb18-4eed-bcf0-b8fff481f709",
   "metadata": {},
   "source": [
    "## Control de flujo: Condicionales y bucles"
   ]
  },
  {
   "cell_type": "code",
   "execution_count": 14,
   "id": "9ef331ab-ed82-4a93-99ec-a228629c753c",
   "metadata": {},
   "outputs": [
    {
     "name": "stdout",
     "output_type": "stream",
     "text": [
      "25 es impar\n"
     ]
    }
   ],
   "source": [
    "n = 25\n",
    "if (n%2==0):\n",
    "    print(n, 'es par')\n",
    "else:  \n",
    "    print(n, 'es impar')"
   ]
  },
  {
   "cell_type": "code",
   "execution_count": 15,
   "id": "7b4ec1c3-1b64-47bf-8bc2-c1eb50940724",
   "metadata": {},
   "outputs": [
    {
     "name": "stdout",
     "output_type": "stream",
     "text": [
      "18 es multiplo de 3\n",
      "18 Tambien es multiplo de 2\n",
      "18 es impar\n"
     ]
    }
   ],
   "source": [
    "n = 18\n",
    "if (n%3==0):\n",
    "    print(n, 'es multiplo de 3')\n",
    "    if (n%2 == 0):\n",
    "        print(n, 'Tambien es multiplo de 2')\n",
    "if (n%3==1):\n",
    "    print(n, 'es 1 modulo de 3')\n",
    "else:  \n",
    "    print(n, 'es impar')"
   ]
  },
  {
   "cell_type": "markdown",
   "id": "572de692-1dc6-49d3-9a68-e5a33e2d26ea",
   "metadata": {},
   "source": [
    "## Bucles"
   ]
  },
  {
   "cell_type": "code",
   "execution_count": 18,
   "id": "b732db16-1907-402e-b793-57e52eb6b272",
   "metadata": {},
   "outputs": [
    {
     "name": "stdout",
     "output_type": "stream",
     "text": [
      "1\n",
      "3\n",
      "5\n",
      "7\n",
      "9\n"
     ]
    }
   ],
   "source": [
    "for i in range(1,10,2):\n",
    "    print(i)"
   ]
  },
  {
   "cell_type": "code",
   "execution_count": 24,
   "id": "3b4ee2c4-8b21-4318-bb8a-a792e0598c6e",
   "metadata": {},
   "outputs": [
    {
     "name": "stdout",
     "output_type": "stream",
     "text": [
      "j= 0\n",
      "j= 1\n",
      "j= 2\n",
      "j= 3\n",
      "i= 4\n",
      "j= 0\n",
      "j= 1\n",
      "j= 2\n",
      "i= 3\n",
      "j= 0\n",
      "j= 1\n",
      "i= 2\n",
      "j= 0\n",
      "i= 1\n",
      "i= 0\n",
      "m-e-l-o-c-o-t-o-n-"
     ]
    }
   ],
   "source": [
    "for i in range(4,-1,-1):\n",
    "    for j in range(i):\n",
    "        print('j=',j)\n",
    "    print('i=',i)"
   ]
  },
  {
   "cell_type": "code",
   "execution_count": 27,
   "id": "2005fffd-62f4-47d8-a40a-11d68d4ea54c",
   "metadata": {},
   "outputs": [
    {
     "name": "stdout",
     "output_type": "stream",
     "text": [
      "En el indice 1 esta la letra m\n",
      "En el indice 2 esta la letra e\n",
      "En el indice 3 esta la letra l\n",
      "En el indice 4 esta la letra o\n",
      "En el indice 5 esta la letra c\n",
      "En el indice 6 esta la letra o\n",
      "En el indice 7 esta la letra t\n",
      "En el indice 8 esta la letra o\n",
      "En el indice 9 esta la letra n\n"
     ]
    }
   ],
   "source": [
    "palabra = 'melocoton'\n",
    "\n",
    "for i,letra in enumerate(palabra):\n",
    "    print(f\"En el indice {i+1} esta la letra {letra}\")"
   ]
  },
  {
   "cell_type": "markdown",
   "id": "9d5a5339-56e8-4955-9455-b7a99f0982ca",
   "metadata": {},
   "source": [
    "## Listas"
   ]
  },
  {
   "cell_type": "code",
   "execution_count": 29,
   "id": "576bcc76-7cd6-417f-a3bb-d530c3764b7a",
   "metadata": {},
   "outputs": [
    {
     "name": "stdout",
     "output_type": "stream",
     "text": [
      "1\n",
      "2\n",
      "3\n",
      "4\n",
      "['piña', 'melocoton', 'boli', 'melon']\n",
      "[1, 'boli']\n"
     ]
    }
   ],
   "source": [
    "lista1 = [1,2,3,4]\n",
    "lista2 = ['piña','melocoton', 'boli']\n",
    "lista3 = [1, 'boli', True]\n",
    "\n",
    "for elemento in lista1:\n",
    "     print(elemento)\n",
    "\n",
    "lista1 = lista1 + [7,8]\n",
    "\n",
    "lista2.append('melon')\n",
    "print(lista2)\n",
    "lista3.pop()\n",
    "print(lista3)"
   ]
  },
  {
   "cell_type": "markdown",
   "id": "f6e815b7-7a39-40f8-8ebb-5117ef13e6c6",
   "metadata": {},
   "source": [
    "## Comprensión de listas"
   ]
  },
  {
   "cell_type": "code",
   "execution_count": 37,
   "id": "f7004132-0f79-45f6-891d-ed8c95d15640",
   "metadata": {},
   "outputs": [
    {
     "name": "stdout",
     "output_type": "stream",
     "text": [
      "[0, 4, 0, 16, 0, 36, 0, 64, 0]\n",
      "[0, 4, 0, 16, 0, 36, 0, 64, 0]\n"
     ]
    }
   ],
   "source": [
    "# %%time\n",
    "cuadrado = []\n",
    "\n",
    "for i in range(1,10):\n",
    "    if (i%2 == 0):\n",
    "        cuadrado.append(i**2)\n",
    "    else:\n",
    "        cuadrado.append(0)\n",
    "print(cuadrado)\n",
    "\n",
    "cuadrado = [i**2 for i in range(1,10) if (i%2 == 0)]\n",
    "cuadrado = [i**2 if (i%2 == 0) else 0 for i in range(1,10)]\n",
    "print(cuadrado)"
   ]
  },
  {
   "cell_type": "code",
   "execution_count": 40,
   "id": "ac6cb011-13a0-4e2e-92eb-8455dad37295",
   "metadata": {},
   "outputs": [
    {
     "name": "stdout",
     "output_type": "stream",
     "text": [
      "[1, 2, 3]\n",
      "[4, 5, 6]\n",
      "[7, 8, 9]\n"
     ]
    },
    {
     "data": {
      "text/plain": [
       "[[1, 2, 3], [11, 12, 13], [21, 22, 23]]"
      ]
     },
     "execution_count": 40,
     "metadata": {},
     "output_type": "execute_result"
    }
   ],
   "source": [
    "A = [[1,2,3],[4,5,6],[7,8,9]]\n",
    "for fila in A:\n",
    "    print(fila)\n",
    "\n",
    "\n",
    "M = [[10*i + j + 1 for j in range(3)] for i in range(3)]\n",
    "M"
   ]
  },
  {
   "cell_type": "code",
   "execution_count": null,
   "id": "fe28a3d4-4e59-498e-b5c5-7ff942578d52",
   "metadata": {},
   "outputs": [],
   "source": [
    "len(M)\n",
    "\n",
    "def function(a,b):\n",
    "    c = a+b\n",
    "    return c\n",
    "\n",
    "n = 7\n",
    "m = 8\n",
    "print(function(7,8))\n",
    "\n"
   ]
  },
  {
   "cell_type": "code",
   "execution_count": null,
   "id": "acdfc937-575a-41b7-ad3a-d8acd891bece",
   "metadata": {},
   "outputs": [],
   "source": []
  },
  {
   "cell_type": "code",
   "execution_count": null,
   "id": "aa490c07-fd6a-4dcd-b6b7-b216e720e9a4",
   "metadata": {},
   "outputs": [],
   "source": []
  },
  {
   "cell_type": "code",
   "execution_count": null,
   "id": "71b98afa-13fb-45cf-8b3d-f90c84ff175a",
   "metadata": {},
   "outputs": [],
   "source": []
  }
 ],
 "metadata": {
  "kernelspec": {
   "display_name": "Python 3 (ipykernel)",
   "language": "python",
   "name": "python3"
  },
  "language_info": {
   "codemirror_mode": {
    "name": "ipython",
    "version": 3
   },
   "file_extension": ".py",
   "mimetype": "text/x-python",
   "name": "python",
   "nbconvert_exporter": "python",
   "pygments_lexer": "ipython3",
   "version": "3.11.5"
  }
 },
 "nbformat": 4,
 "nbformat_minor": 5
}
