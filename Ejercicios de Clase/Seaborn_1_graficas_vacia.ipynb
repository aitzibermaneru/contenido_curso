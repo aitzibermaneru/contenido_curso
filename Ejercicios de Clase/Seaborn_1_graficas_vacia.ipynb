{
 "cells": [
  {
   "cell_type": "markdown",
   "metadata": {},
   "source": [
    "# Primeras gráficas con `Seaborn`\n",
    "\n",
    "Métodos usados:\n",
    "\n",
    "```python\n",
    "sns.lineplot()\n",
    "sns.scatterplot()\n",
    "\n",
    "```"
   ]
  },
  {
   "cell_type": "markdown",
   "metadata": {},
   "source": [
    "### Paso 1. \n",
    "Importa las librerías necesarias."
   ]
  },
  {
   "cell_type": "code",
   "execution_count": null,
   "metadata": {},
   "outputs": [],
   "source": [
    "import pandas as pd\n",
    "import seaborn as sns\n",
    "import numpy as np\n",
    "import matplotlib.pyplot as plt"
   ]
  },
  {
   "cell_type": "markdown",
   "metadata": {},
   "source": [
    "### Paso 2. \n",
    "Carga los datos de consumo de alcohol por país y asígnalos a una variable de nombre 'drinks'. La columna que se empleará de índice será 'country'"
   ]
  },
  {
   "cell_type": "code",
   "execution_count": null,
   "metadata": {},
   "outputs": [],
   "source": []
  },
  {
   "cell_type": "markdown",
   "metadata": {},
   "source": [
    "### Paso 3.1\n",
    "Guarda en una tabla de nombre 'Europa_beer_wine' los datos de consumo de cerveza y vino de los paises europeos.  "
   ]
  },
  {
   "cell_type": "code",
   "execution_count": null,
   "metadata": {},
   "outputs": [],
   "source": []
  },
  {
   "cell_type": "markdown",
   "metadata": {},
   "source": [
    "### Paso 3.2\n",
    "Guarda en una tabla de nombre 'Europa_alcohol' los datos de consumo de alcohol en litros por persona de los paises europeos que consumen más de 9.9 litros por persona.  "
   ]
  },
  {
   "cell_type": "code",
   "execution_count": null,
   "metadata": {},
   "outputs": [],
   "source": []
  },
  {
   "cell_type": "markdown",
   "metadata": {},
   "source": [
    "### Paso 3.3\n",
    "Guarda en una tabla de nombre 'Mundo_alcohol' los datos de\n",
    "* continente\n",
    "* cervezas consumidas al año por persona (*beer_servings*)\n",
    "* copas al año por persona (*spirit_servings*) \n",
    "* total numero de litros al año por persona (*total_litres_of_pure_alcohol*).\n",
    "  \n",
    "de los paises del mundo que consumen toman mas de 20 copas (*spirit_servings*) por persona al año.  "
   ]
  },
  {
   "cell_type": "code",
   "execution_count": null,
   "metadata": {},
   "outputs": [],
   "source": []
  },
  {
   "cell_type": "markdown",
   "metadata": {},
   "source": [
    "### Paso 3.4\n",
    "Cambia los nombres de las columnas.\n",
    "* 'Europa_beer_wine' tendrá por columnas 'Cerveza' y 'Vino' \n",
    "* 'Europa_alcohol' tendrá por columnas 'Total' \n",
    "* 'Mundo_alcohol' tendrá por columnas 'Continente', 'Cervezas', 'Copas' y 'Total' "
   ]
  },
  {
   "cell_type": "code",
   "execution_count": null,
   "metadata": {},
   "outputs": [],
   "source": []
  },
  {
   "cell_type": "markdown",
   "metadata": {},
   "source": [
    "### Paso 4.1. Lineplots\n",
    "\n",
    "Usa la función \n",
    "``` python\n",
    "sns.lineplot()\n",
    "```\n",
    "para hacer una gráfica del consumo de alcohol por persona de los países de la tabla 'Europa_alcohol'\n",
    "\n",
    "Antes de mostrar la gráfica incluye la sentencia:\n",
    "``` python\n",
    "plt.xticks(rotation=45, ha='right')\n",
    "```\n",
    "para girar los nombres de los países en la gráfica y facilitar su lectura."
   ]
  },
  {
   "cell_type": "code",
   "execution_count": null,
   "metadata": {},
   "outputs": [],
   "source": []
  },
  {
   "cell_type": "markdown",
   "metadata": {},
   "source": [
    "##  Paso 4.2.\n",
    "\n",
    "Modifica la grafica para cambiarle:\n",
    "\n",
    "* el tamaño:\n",
    "```python\n",
    "plt.figure(figsize=(12,6))\n",
    "```\n",
    "* el título:\n",
    "```python\n",
    "plt.title(\"Consumo de alcohol por habitante en litros en los países europeos de mayor consumo.\")\n",
    "```\n",
    "* el color del fondo\n",
    "```python\n",
    "sns.set_theme(rc={\"axes.facecolor\": 'grey',\n",
    "```\n",
    "* añadir malla en el fondo\n",
    "```python\n",
    "sns.set_theme(rc={\"axes.facecolor\": 'grey', \"axes.grid\":True,\n",
    "```\n",
    "* cambiar el tamaño de los ticks en los ejes\n",
    "```python\n",
    "sns.set_theme(rc={\"axes.facecolor\":\"#283747\", \"axes.grid\":True,'xtick.labelsize':14,'ytick.labelsize':14})\n",
    "```\n",
    "* cambia por último el color de la linea de la gráfica y su grosor\n",
    "\n"
   ]
  },
  {
   "cell_type": "code",
   "execution_count": null,
   "metadata": {},
   "outputs": [],
   "source": []
  },
  {
   "cell_type": "markdown",
   "metadata": {},
   "source": [
    "### Paso 5.1\n",
    "\n",
    "Repite el Paso 4 para dibujar en la misma gráfica dos líneas: \n",
    "* En verde el consumo de cerveza por país de la tabla Europa_beer_wine.\n",
    "* En rojo el consumo de vino por país de la tabla Europa_beer_wine.\n",
    "\n",
    "Deberás añadir el parámetro 'label' a la función \n",
    "``` python\n",
    "sns.lineplot()\n",
    "```"
   ]
  },
  {
   "cell_type": "code",
   "execution_count": null,
   "metadata": {},
   "outputs": [],
   "source": []
  },
  {
   "cell_type": "markdown",
   "metadata": {},
   "source": [
    "### Paso 5.2.\n",
    "\n",
    "Añadele un marcador a los puntos que conforman la gráfica: \n",
    "* Un cuadrado para el consumo de cerveza en cada país de la tabla Europa_beer_wine.\n",
    "* Un círculo para el consumo de vino en cada país de la tabla Europa_beer_wine.\n",
    "\n",
    "Deberás añadir el parámetro *marker* a la función \n",
    "``` python\n",
    "sns.lineplot()\n",
    "```"
   ]
  },
  {
   "cell_type": "code",
   "execution_count": null,
   "metadata": {},
   "outputs": [],
   "source": [
    "\n"
   ]
  },
  {
   "cell_type": "markdown",
   "metadata": {},
   "source": [
    "### Paso 5.3.\n",
    "\n",
    "Si queremos añadir marcadores con diferente color, tamaño, ... es necesario usar el método *scatter* de *matplotlib*:\n",
    "``` python\n",
    "plt.scatter(Europa_beer_wine.index, Europa_beer_wine.Cerveza, color='b', s=100, marker='s')\n",
    "```\n",
    "Añadele un marcador a los puntos que conforman la gráfica: \n",
    "* Un cuadrado azul de tamaño 80 para el consumo de cerveza en cada país de la tabla Europa_beer_wine.\n",
    "* Un círculo negro de tamaño 100 para el consumo de vino en cada país de la tabla Europa_beer_wine."
   ]
  },
  {
   "cell_type": "code",
   "execution_count": null,
   "metadata": {},
   "outputs": [],
   "source": []
  },
  {
   "cell_type": "markdown",
   "metadata": {},
   "source": [
    "### Pregunta 6.1:\n",
    "Del *DataFrame* 'Mundo_alcohol' vamos a extraer los 20 paises con mayor consumo de alcohol.\n",
    "Para ello ordenalos por la columna 'Total' y muestra los 20 primeros."
   ]
  },
  {
   "cell_type": "code",
   "execution_count": null,
   "metadata": {},
   "outputs": [],
   "source": []
  },
  {
   "cell_type": "markdown",
   "metadata": {},
   "source": [
    "### Pregunta 6.2:\n",
    "\n",
    "Vamos a representar el consumo de cerveza en litros y el consumo de alcohol por habitante en litros en los países con mayor consumo de alcohol que acabamos de extraer.\n",
    "Como el consumo de cerveza es un orden de magnitud mayor vamos a tener que normalizar o transformar las escalas para que ambas líneas sean visibles y comparables en la misma gráfica. \n",
    "Puedes hacerlo utilizando dos ejes y escalas diferentes, lo que permite que cada línea tenga su propia escala en la parte izquierda o derecha de la gráfica.\n",
    "\n",
    "Lo haremos usando el mtodo `twinx()` de *Matplotlib*\n",
    "```python\n",
    "ax1.set_xticks(range(len(Top_alcohol)))\n",
    "``` \n",
    "Establece manualmente las posiciones de los ticks del eje X basadas en el número de países (índice).\n",
    "```python\n",
    "ax1.set_xticklabels(Top_alcohol.index, rotation=80)\n",
    "``` \n",
    "Se asegura de que las etiquetas del eje X (en este caso, los nombres de los países) estén correctamente rotadas 80 grados."
   ]
  },
  {
   "cell_type": "code",
   "execution_count": null,
   "metadata": {},
   "outputs": [],
   "source": []
  },
  {
   "cell_type": "markdown",
   "metadata": {},
   "source": [
    "### Pregunta 6.3:\n",
    "Del *DataFrame* 'Mundo_alcohol' vamos a extraer los 5 paises de cada contiente con mayor consumo de alcohol.\n",
    "Luego los juntaremos en una *DataFrame* de nombre 'Top_continentes' \n",
    "\n",
    "Puedes usar la función:\n",
    "```python\n",
    "\n",
    "pd.concat([df1,df2,...,dfn], axis = 0)\n",
    "```"
   ]
  },
  {
   "cell_type": "code",
   "execution_count": null,
   "metadata": {},
   "outputs": [],
   "source": [
    "\n",
    "    "
   ]
  },
  {
   "cell_type": "markdown",
   "metadata": {},
   "source": [
    "### Pregunta 6.4:\n",
    "\n",
    "Vamos a representar el consumo de cerveza en litros y el consumo de alcohol por habitante en litros en los 5 países con mayor consumo de alcohol de cada continente segun el *DataFrame*.\n",
    "De nuevo hará falta usar dos escalas en el eje 'y', una para la cerveza y otra para el alcohol total. Pero además ahora usaremos una paleta de color diferente para cada continente de forma que se puedan representar en la misma gráfica.\n",
    "Usaremos\n",
    "```python\n",
    " palette_cerveza = sns.color_palette(\"Reds\", n_colors=Top_continentes['Continente'].nunique())\n",
    " palette_alcohol = sns.color_palette(\"Blues\", n_colors=Top_continentes['Continente'].nunique())\n",
    "```\n",
    "y añadiremos el parámetro `hue='Continente'` a la función `sns.lineplot` para emplear un color diferente para los países de cada continente."
   ]
  },
  {
   "cell_type": "code",
   "execution_count": null,
   "metadata": {},
   "outputs": [],
   "source": []
  },
  {
   "cell_type": "markdown",
   "metadata": {},
   "source": [
    "### Paso 7.1 Scatterplots\n",
    "\n",
    "Usa la función \n",
    "``` python\n",
    "sns.scatterplot()\n",
    "```\n",
    "para dibujar una gráfica de puntos a partir de la información de la tabla 'Mundo_alcohol'.\n",
    "En primer lugar restringe los datos a los países de Asia y haz una gráfica donde para cada país se indique la cantidad total de alcohol consumida."
   ]
  },
  {
   "cell_type": "code",
   "execution_count": null,
   "metadata": {},
   "outputs": [],
   "source": []
  },
  {
   "cell_type": "markdown",
   "metadata": {},
   "source": [
    "### Paso 7.2.\n",
    "\n",
    "A continuación crea una malla de 4 gráficas; 2 filas y 2 columnas con la misma información de los continentes 'Europe', 'Africa', 'North America' y 'South America'.\n",
    "\n",
    "Necesitarás emplear:\n",
    "* Definir la matriz de gráficos\n",
    "```python\n",
    "fig, axes = plt.subplots()\n",
    "```\n",
    "* Rotar las etiquetas en el eje x \n",
    "```python\n",
    "for ax in axes.flatten():\n",
    "    for label in ax.get_xticklabels():\n",
    "        label.set_rotation(80)\n",
    "```\n",
    "* Poner título a cada gráfica.\n",
    "```python\n",
    "axes[i,j].set_title('Nombre')\n",
    "```\n",
    "* Ajustar el espacio entre gráficas.\n",
    "```python\n",
    "plt.tight_layout()\n",
    "```\n",
    "\n",
    "\n"
   ]
  },
  {
   "cell_type": "code",
   "execution_count": null,
   "metadata": {},
   "outputs": [],
   "source": []
  },
  {
   "cell_type": "markdown",
   "metadata": {},
   "source": [
    "### Paso 7.3.\n",
    "\n",
    "Haz una gráfica de puntos *scatterplot* donde muestres en el eje *x* el número de copas al año por persona ('Copas') y en el eje *y* el consumo total de alcohol en litros ('Total') de la tabla 'Mundo_alcohol'.\n",
    "\n",
    "Usando el atributo:\n",
    "``` python\n",
    "sns.scatterplot( ...   ,hue= ***, ...)\n",
    "```\n",
    "emplea un color diferente para el marcador de cada continente.\n",
    "\n"
   ]
  },
  {
   "cell_type": "code",
   "execution_count": null,
   "metadata": {},
   "outputs": [],
   "source": []
  },
  {
   "cell_type": "markdown",
   "metadata": {},
   "source": [
    "### Paso 7.4.\n",
    "\n",
    "Repite la gráfica anterior pero utiliza el atributo:\n",
    "``` python\n",
    "sns.scatterplot( ...   ,style= ***, ...)\n",
    "```\n",
    "para usar un marcador diferente en cada continente.\n"
   ]
  },
  {
   "cell_type": "code",
   "execution_count": null,
   "metadata": {},
   "outputs": [],
   "source": []
  },
  {
   "cell_type": "markdown",
   "metadata": {},
   "source": [
    "### Paso 7.5.\n",
    "\n",
    "Por último añade a la gráfica del Paso 6.3. la información del número de cervezas consumidas.\n",
    "Usando el atributo `size` junto con el modificador `sizes`\n",
    "``` python\n",
    "sns.scatterplot( ...   ,  size= ***, sizes = (10,100), ...)\n",
    "```\n",
    "modifica el tamaño de los marcadores en función del número de cervezas consumidas."
   ]
  },
  {
   "cell_type": "code",
   "execution_count": null,
   "metadata": {},
   "outputs": [],
   "source": []
  },
  {
   "cell_type": "code",
   "execution_count": null,
   "metadata": {},
   "outputs": [],
   "source": []
  }
 ],
 "metadata": {
  "anaconda-cloud": {},
  "kernelspec": {
   "display_name": "Python 3 (ipykernel)",
   "language": "python",
   "name": "python3"
  },
  "language_info": {
   "codemirror_mode": {
    "name": "ipython",
    "version": 3
   },
   "file_extension": ".py",
   "mimetype": "text/x-python",
   "name": "python",
   "nbconvert_exporter": "python",
   "pygments_lexer": "ipython3",
   "version": "3.12.2"
  }
 },
 "nbformat": 4,
 "nbformat_minor": 4
}
