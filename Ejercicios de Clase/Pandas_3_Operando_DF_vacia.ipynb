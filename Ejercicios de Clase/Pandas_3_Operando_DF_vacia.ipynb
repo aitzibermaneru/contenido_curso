{
 "cells": [
  {
   "cell_type": "markdown",
   "metadata": {},
   "source": [
    "# Manipulando Tablas\n",
    "\n",
    "Datos extraídos de  https://github.com/justmarkham \n",
    "\n",
    "Métodos y funciones usadas:\n",
    "\n",
    "```python\n",
    ".read_table()\n",
    ".set_index()\n",
    ".map()\n",
    ".apply()\n",
    "lambda\n",
    ".groupby()\n",
    ".capitalize()\n",
    ".isin()\n",
    ".shape[]\n",
    ".unstack()\n",
    "fill_values\n",
    ".count()\n",
    ".isnull()\n",
    ".fillna()\n",
    "\n",
    "```"
   ]
  },
  {
   "cell_type": "markdown",
   "metadata": {},
   "source": [
    "### Paso 1. \n",
    "Importa las librerías necesarias."
   ]
  },
  {
   "cell_type": "code",
   "execution_count": 1,
   "metadata": {},
   "outputs": [],
   "source": []
  },
  {
   "cell_type": "markdown",
   "metadata": {},
   "source": [
    "### Paso 2. \n",
    "Carga los datos de empleo del archivo 'Occupation.txt' en una tabla de nombre 'Users'. Usa para ello el método:\n",
    "\n",
    "``` python\n",
    ".read_table()\n",
    "```\n",
    "\n",
    "Las columnas están separadas por '|'"
   ]
  },
  {
   "cell_type": "code",
   "execution_count": 2,
   "metadata": {},
   "outputs": [],
   "source": []
  },
  {
   "cell_type": "markdown",
   "metadata": {},
   "source": [
    "### Paso 2. \n",
    "Si visualizas la tabla verás que hay una columna de nombre 'user_id' que se puede utilizar como índice de la tabla.\n",
    "Usa para ello el comando \n",
    "``` python\n",
    ".set_index()\n",
    "```\n",
    "Para que el cambio se consolide debes igualar el nombre de la tabla al resultado de aplicar el método."
   ]
  },
  {
   "cell_type": "code",
   "execution_count": 3,
   "metadata": {},
   "outputs": [],
   "source": [
    "\n"
   ]
  },
  {
   "cell_type": "markdown",
   "metadata": {},
   "source": [
    "### Paso 3.\n",
    "\n",
    "Añade una columna de nombre 'salary' que contenga para cada registro una cantidad aleatoria entre 10000 y 100000.\n",
    "Guarda en la variable 'salario_medio' la media de dicha columna"
   ]
  },
  {
   "cell_type": "code",
   "execution_count": 4,
   "metadata": {},
   "outputs": [],
   "source": []
  },
  {
   "cell_type": "code",
   "execution_count": 5,
   "metadata": {},
   "outputs": [],
   "source": []
  },
  {
   "cell_type": "markdown",
   "metadata": {},
   "source": [
    "### Paso 4.\n",
    "Añade una columna de nombre 'days_work' que contenga para cada registro una cantidad aleatoria entre 1 y 365.\n"
   ]
  },
  {
   "cell_type": "code",
   "execution_count": null,
   "metadata": {},
   "outputs": [],
   "source": []
  },
  {
   "cell_type": "markdown",
   "metadata": {},
   "source": [
    "### Paso 5.\n",
    "\n",
    "Usando el método \n",
    "``` python\n",
    ".map()\n",
    "```\n",
    "crea una nueva columna llamada 'gender_num' que contega 0 si  'gender == F' y 1 si 'gender == M'  "
   ]
  },
  {
   "cell_type": "code",
   "execution_count": null,
   "metadata": {},
   "outputs": [],
   "source": []
  },
  {
   "cell_type": "markdown",
   "metadata": {},
   "source": [
    "### Paso 6.\n",
    "\n",
    "Usando el método \n",
    "``` python\n",
    ".apply()\n",
    "```\n",
    "y la función \n",
    "```python\n",
    "lambda \n",
    "```\n",
    "crea una nueva columna 'salary_rise' para calcular el incremento de salario por el IPC. Multiplica los elementos de la columna 'salary' por 0.038"
   ]
  },
  {
   "cell_type": "code",
   "execution_count": null,
   "metadata": {},
   "outputs": [],
   "source": []
  },
  {
   "cell_type": "markdown",
   "metadata": {},
   "source": [
    "### Paso 7.\n",
    "\n",
    "Crea una nueva columna de nombre 'future_salary_per_day' donde para cada registro sumes las columnas 'salary' y 'salary_rise' y dividas por 'days_work'"
   ]
  },
  {
   "cell_type": "code",
   "execution_count": 9,
   "metadata": {},
   "outputs": [],
   "source": []
  },
  {
   "cell_type": "markdown",
   "metadata": {},
   "source": [
    "### Paso 8.\n",
    "\n",
    "Crea una función de nombre 'mayuscula' que reciba una cadena de texto y devuelva el mismo texto pero con la primera letra en mayúscula.\n",
    "Puedes usar el método para *strings* \n",
    "```python\n",
    "capitalize()\n",
    "```"
   ]
  },
  {
   "cell_type": "code",
   "execution_count": 10,
   "metadata": {},
   "outputs": [],
   "source": []
  },
  {
   "cell_type": "markdown",
   "metadata": {},
   "source": [
    "### Paso 9.\n",
    "\n",
    "Usando el método \n",
    "```python\n",
    ".apply()\n",
    "```\n",
    "\n",
    "y la función 'mayuscula' modifica la columna 'occupation' para poner la primera letra en mayúscula.``"
   ]
  },
  {
   "cell_type": "code",
   "execution_count": 11,
   "metadata": {},
   "outputs": [],
   "source": []
  },
  {
   "cell_type": "code",
   "execution_count": null,
   "metadata": {},
   "outputs": [],
   "source": []
  },
  {
   "cell_type": "markdown",
   "metadata": {},
   "source": [
    "### Paso 10\n",
    "\n",
    "Usando el metodo \n",
    "```python\n",
    ".isin()\n",
    "```\n",
    "crea una tabla llamada 'IA' donde guardes los individuos cuya profesión ('occupation') es 'Programmer','Engineer' o 'Technician'."
   ]
  },
  {
   "cell_type": "code",
   "execution_count": 13,
   "metadata": {},
   "outputs": [],
   "source": []
  },
  {
   "cell_type": "markdown",
   "metadata": {},
   "source": [
    "### Paso 11\n",
    "\n",
    "Usando el metodo \n",
    "```python\n",
    ".isin()\n",
    "```\n",
    "calcula el número de individuos que son 'Programmer','Engineer' o 'Technician'. También puedes emplear la tabla 'IA' recién creada"
   ]
  },
  {
   "cell_type": "code",
   "execution_count": null,
   "metadata": {},
   "outputs": [],
   "source": []
  },
  {
   "cell_type": "markdown",
   "metadata": {},
   "source": [
    "### Paso 12.\n",
    "\n",
    "Calcula el número de hombres y el de mujeres en esas tres profesiones en conjunto."
   ]
  },
  {
   "cell_type": "code",
   "execution_count": null,
   "metadata": {},
   "outputs": [],
   "source": []
  },
  {
   "cell_type": "markdown",
   "metadata": {},
   "source": [
    "### Paso 13.\n",
    "\n",
    "Agrupa la tabla por profesiones y muestra una tabla con el número de trabajadores por profesión.\n",
    "Usa el método\n",
    "```python\n",
    ".groupby()\n",
    "```"
   ]
  },
  {
   "cell_type": "code",
   "execution_count": null,
   "metadata": {},
   "outputs": [],
   "source": []
  },
  {
   "cell_type": "markdown",
   "metadata": {},
   "source": [
    "### Paso 14.\n",
    "\n",
    "Agrupa la tabla por profesiones y muestra una tabla con el valor medio de la edad y el salario en cada profesión\n"
   ]
  },
  {
   "cell_type": "code",
   "execution_count": null,
   "metadata": {},
   "outputs": [],
   "source": []
  },
  {
   "cell_type": "markdown",
   "metadata": {},
   "source": [
    "### Paso 15.\n",
    "\n",
    "Usando el método\n",
    "```python\n",
    ".agg()\n",
    "```\n",
    "sobre la tabla agrupada por profesiones, muestra en seis columnas diferentes los valores mínimo, medio y máximo para la edad y el salario.\n"
   ]
  },
  {
   "cell_type": "code",
   "execution_count": null,
   "metadata": {},
   "outputs": [],
   "source": []
  },
  {
   "cell_type": "markdown",
   "metadata": {},
   "source": [
    "### Paso 16.\n",
    "\n",
    "Usando el método\n",
    "```python\n",
    ".agg()\n",
    "```\n",
    "sobre la tabla agrupada por profesiones, crea una nueva tabla de nombre 'Profesion' con 2 columnas: una 'Hombres' y otra 'Mujeres' que contengan para cada profesión el número de hombres y mujeres que hay.\n",
    "\n"
   ]
  },
  {
   "cell_type": "code",
   "execution_count": null,
   "metadata": {},
   "outputs": [],
   "source": []
  },
  {
   "cell_type": "markdown",
   "metadata": {},
   "source": [
    "### Paso 16b.\n",
    "Otra forma de hacer lo mismo es empleando el método\n",
    "```python\n",
    ".groupby()\n",
    "```\n",
    "y agrupar usando dos columnas 'occupation' y 'gender'.\n",
    "Despues emplear el método \n",
    "```python\n",
    ".size()\n",
    "```\n",
    "Para determinar el número de registros en cada profesión y sexo.\n"
   ]
  },
  {
   "cell_type": "code",
   "execution_count": null,
   "metadata": {},
   "outputs": [],
   "source": []
  },
  {
   "cell_type": "markdown",
   "metadata": {},
   "source": [
    "### Paso 17.\n",
    "\n",
    "La tabla anterior es \"fea\". Usando el método \n",
    "```python\n",
    ".unstack()\n",
    "```\n",
    "junto con el parámetro\n",
    "```python\n",
    "(fill_value=None)\n",
    "```\n",
    "convierte el índice de apilamiento 'M','F' en dos columnas distintas. Guarda el resultado en una tabla de nombre 'empleos_1'"
   ]
  },
  {
   "cell_type": "code",
   "execution_count": null,
   "metadata": {},
   "outputs": [],
   "source": []
  },
  {
   "cell_type": "markdown",
   "metadata": {},
   "source": [
    "### Paso 18.\n",
    "\n",
    "Cambia el nombre de las columnas de la tabla 'empleos_1' a 'Mujeres' y 'Hombres'."
   ]
  },
  {
   "cell_type": "code",
   "execution_count": null,
   "metadata": {},
   "outputs": [],
   "source": []
  },
  {
   "cell_type": "markdown",
   "metadata": {},
   "source": [
    "### Paso 19.\n",
    "Usa el método:\n",
    "```python\n",
    ".sum()\n",
    "```\n",
    "sobre las columnas \n",
    "```python\n",
    "(axis = 0)\n",
    "```\n",
    "en la tabla 'empleos_1' para calcular el numero de hombres y mujeres en total. \n",
    "\n",
    "Usa el método:\n",
    "```python\n",
    ".count()\n",
    "```\n",
    "sobre las columnas \n",
    "```python\n",
    "(axis = 0)\n",
    "```\n",
    "en la tabla 'empleos_1' para calcular el número de profesiones en los que hay hombres y mujeres.\n",
    "\n"
   ]
  },
  {
   "cell_type": "code",
   "execution_count": null,
   "metadata": {},
   "outputs": [],
   "source": []
  },
  {
   "cell_type": "code",
   "execution_count": null,
   "metadata": {},
   "outputs": [],
   "source": []
  },
  {
   "cell_type": "markdown",
   "metadata": {},
   "source": [
    "Hay 21 empleos donde está ocupado al menos un hombre, mientras que ese número se reduce a 20 en el caso de las mujeres."
   ]
  },
  {
   "cell_type": "markdown",
   "metadata": {},
   "source": [
    "### Paso 20.\n",
    "Para saber si hay valores perdidos o 'None' es una tabla podemos emplear el método:\n",
    "```python\n",
    ".isnull()\n",
    "```\n",
    "Emplealo en 'empleos_1' para saber si algún registro tiene valores perdidos.\n",
    "Combinalo con: \n",
    "```python\n",
    ".sum()\n",
    "```\n",
    "para encontrar el complementario del Paso 19.\n",
    "Finalmente mediante el método:\n",
    "```python\n",
    ".fillna(0)\n",
    "```\n",
    "Crea la tabla 'empleos_2' que es una copia de 'empleos_1' pero con '0' en lugar de 'NaN' allí donde falta algún valor."
   ]
  },
  {
   "cell_type": "code",
   "execution_count": null,
   "metadata": {},
   "outputs": [],
   "source": []
  },
  {
   "cell_type": "code",
   "execution_count": null,
   "metadata": {},
   "outputs": [],
   "source": []
  }
 ],
 "metadata": {
  "anaconda-cloud": {},
  "kernelspec": {
   "display_name": "Python 3 (ipykernel)",
   "language": "python",
   "name": "python3"
  },
  "language_info": {
   "codemirror_mode": {
    "name": "ipython",
    "version": 3
   },
   "file_extension": ".py",
   "mimetype": "text/x-python",
   "name": "python",
   "nbconvert_exporter": "python",
   "pygments_lexer": "ipython3",
   "version": "3.9.13"
  }
 },
 "nbformat": 4,
 "nbformat_minor": 4
}
