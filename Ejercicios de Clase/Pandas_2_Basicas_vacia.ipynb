{
 "cells": [
  {
   "cell_type": "markdown",
   "metadata": {},
   "source": [
    "# Empezando con la librería Pandas.\n",
    "\n",
    "El objetivo de este `Notebook` es empezar a familiarizarse con la libreria *Pandas* sus funciones y métodos.\n",
    "Ejecuta las celdas para ver cual es la salida de cada una y, si quieres, comenta la solución propuesta y explora otras posibles maneras de resolver el problema planteado.\n",
    "Para muchas de las preguntas/búsquedas existe más de una forma de llegar al resultado deseado. Probar es la mejor manera de aprender.\n",
    "\n",
    "\n",
    "Métodos usados:\n",
    "\n",
    "```python\n",
    ".read_csv()\n",
    ".describe()\n",
    ".sort_values()\n",
    ".head()\n",
    ".mean()\n",
    ".str.startswith()\n",
    ".max()\n",
    ".idxmax()\n",
    ".unique()\n",
    ".groupby()\n",
    ".select_dtypes()\n",
    "```"
   ]
  },
  {
   "cell_type": "markdown",
   "metadata": {},
   "source": [
    "### Paso 1. \n",
    "Importa las librerías necesarias."
   ]
  },
  {
   "cell_type": "code",
   "execution_count": 1,
   "metadata": {},
   "outputs": [],
   "source": []
  },
  {
   "cell_type": "markdown",
   "metadata": {},
   "source": [
    "### Paso 2. \n",
    "Carga los datos de consumo de alcohol por país y asígnalos a una variable de nombre 'drinks'. "
   ]
  },
  {
   "cell_type": "code",
   "execution_count": 2,
   "metadata": {},
   "outputs": [],
   "source": []
  },
  {
   "cell_type": "markdown",
   "metadata": {},
   "source": [
    "### Paso 3. \n",
    "Usando el método \n",
    "```python\n",
    ".info()\n",
    "```\n",
    "imprime información de la tabla."
   ]
  },
  {
   "cell_type": "code",
   "execution_count": null,
   "metadata": {},
   "outputs": [],
   "source": []
  },
  {
   "cell_type": "markdown",
   "metadata": {},
   "source": [
    "### Paso 4. \n",
    "Usando el método \n",
    "```python\n",
    ".describe()\n",
    "```\n",
    "\n",
    "imprime información estadística de las columnas numéricas tabla."
   ]
  },
  {
   "cell_type": "code",
   "execution_count": null,
   "metadata": {
    "scrolled": true
   },
   "outputs": [],
   "source": []
  },
  {
   "cell_type": "markdown",
   "metadata": {},
   "source": [
    "### Paso 5.\n",
    "Añade el parámetro `include = 'all' ` al método anterior para incluir información de las columnas no numéricas. "
   ]
  },
  {
   "cell_type": "code",
   "execution_count": null,
   "metadata": {},
   "outputs": [],
   "source": []
  },
  {
   "cell_type": "markdown",
   "metadata": {},
   "source": [
    "### Paso 6\n",
    "Ordena la tabla por consumo de litros de alcohol al año por habitante. Usa el método\n",
    "``` python\n",
    ".sort_values()\n",
    "```"
   ]
  },
  {
   "cell_type": "code",
   "execution_count": null,
   "metadata": {},
   "outputs": [],
   "source": []
  },
  {
   "cell_type": "markdown",
   "metadata": {},
   "source": [
    "### Paso 7\n",
    "Ordena la tabla por consumo de litros de alcohol al año por habitante pero ahora en orden descendente. Usa el método\n",
    "``` python\n",
    ".sort_values()\n",
    "```\n",
    "con el parámetro:\n",
    "``` python\n",
    ".sort_values(ascending=False)\n",
    "```"
   ]
  },
  {
   "cell_type": "code",
   "execution_count": null,
   "metadata": {},
   "outputs": [],
   "source": []
  },
  {
   "cell_type": "markdown",
   "metadata": {},
   "source": [
    "### Paso 8.\n",
    "Si ahora imprimes la tabla verás que el orden sigue siendo el marcado por el índice.\n",
    "Guarda en la tabla 'drinks_top' la tabla original ordenada de modo descendente por número total de litros de alcohol consumidos por habitante y año.\n",
    "Muestra los 25 primeros registros "
   ]
  },
  {
   "cell_type": "code",
   "execution_count": null,
   "metadata": {},
   "outputs": [],
   "source": []
  },
  {
   "cell_type": "markdown",
   "metadata": {},
   "source": [
    "### Paso 9\n",
    "Como verás hay paises que coinciden en el número de litros de alcohol al año por habitante. Haz un segundo nivel de ordenación para que, en caso de empate en litros totales muestre antes aquellos que consumen más 'spirit_servings'.\n",
    "Muestra 25 filas para comprobar que estás haciendo lo pedido.\n"
   ]
  },
  {
   "cell_type": "code",
   "execution_count": null,
   "metadata": {},
   "outputs": [],
   "source": []
  },
  {
   "cell_type": "markdown",
   "metadata": {},
   "source": [
    "### Paso 10\n",
    "Crea un índice lógico de nombre *id_europe* para recorrer solo los paises de Europa "
   ]
  },
  {
   "cell_type": "code",
   "execution_count": 8,
   "metadata": {},
   "outputs": [],
   "source": []
  },
  {
   "cell_type": "markdown",
   "metadata": {},
   "source": [
    "### Paso 11\n",
    "Usa el índice anterior para ordena los paises de Europa según su consumo anual"
   ]
  },
  {
   "cell_type": "code",
   "execution_count": null,
   "metadata": {},
   "outputs": [],
   "source": []
  },
  {
   "cell_type": "markdown",
   "metadata": {},
   "source": [
    "### Paso 12.\n",
    "Imprime la media de cerveza consumida por los paises de Europa."
   ]
  },
  {
   "cell_type": "code",
   "execution_count": null,
   "metadata": {},
   "outputs": [],
   "source": []
  },
  {
   "cell_type": "markdown",
   "metadata": {},
   "source": [
    "### Paso 13.\n",
    " Calcula la media de vino consumido por los países cuya primera letra es una S. Muestra tambien dichos países.\n",
    " Usa el método:\n",
    " ``` python\n",
    ".str.startswith('S')\n",
    "```"
   ]
  },
  {
   "cell_type": "code",
   "execution_count": null,
   "metadata": {},
   "outputs": [],
   "source": []
  },
  {
   "cell_type": "code",
   "execution_count": null,
   "metadata": {},
   "outputs": [],
   "source": []
  },
  {
   "cell_type": "markdown",
   "metadata": {},
   "source": [
    "### Paso 14\n",
    "Escribe el pais de 'North America' con mayor consumo de cerveza."
   ]
  },
  {
   "cell_type": "code",
   "execution_count": null,
   "metadata": {},
   "outputs": [],
   "source": []
  },
  {
   "cell_type": "code",
   "execution_count": null,
   "metadata": {},
   "outputs": [],
   "source": [
    "\n"
   ]
  },
  {
   "cell_type": "markdown",
   "metadata": {},
   "source": [
    "### Paso 15\n",
    "Haz una lista de los valores diferentes que toma la columna 'continent' e itera sobre ella para imprimir el continente junto con la media de litros de alcohol por habitante en los paises de dicho continente"
   ]
  },
  {
   "cell_type": "code",
   "execution_count": null,
   "metadata": {},
   "outputs": [],
   "source": []
  },
  {
   "cell_type": "code",
   "execution_count": null,
   "metadata": {},
   "outputs": [],
   "source": []
  },
  {
   "cell_type": "markdown",
   "metadata": {},
   "source": [
    "### Paso 16\n",
    "Usando el método \n",
    "``` python\n",
    ".groupby()\n",
    "```\n",
    "agrupa los países por continente y muestra la media de cervezas y vinos de la tabla original para los países de cada continente."
   ]
  },
  {
   "cell_type": "code",
   "execution_count": null,
   "metadata": {},
   "outputs": [],
   "source": []
  },
  {
   "cell_type": "markdown",
   "metadata": {},
   "source": [
    "### Paso 17\n",
    "Usando el método \n",
    "``` python\n",
    ".groupby()\n",
    "```\n",
    "agrupa los países por continente y muestra la media de litros de alcohol por habitante en los paises de dicho continente."
   ]
  },
  {
   "cell_type": "code",
   "execution_count": null,
   "metadata": {},
   "outputs": [],
   "source": []
  },
  {
   "cell_type": "markdown",
   "metadata": {},
   "source": [
    "### Paso 18\n",
    "Ordena la tabla anterior en orden descendente."
   ]
  },
  {
   "cell_type": "code",
   "execution_count": null,
   "metadata": {},
   "outputs": [],
   "source": []
  },
  {
   "cell_type": "markdown",
   "metadata": {},
   "source": [
    "### Paso 20.\n",
    "\n",
    "Crea un nuevo dataframe de nombre 'drinks_continent' que contenga la media de cada columna numérica de la tabla original para los países de cada continente.\n"
   ]
  },
  {
   "cell_type": "code",
   "execution_count": null,
   "metadata": {},
   "outputs": [],
   "source": [
    "\n"
   ]
  }
 ],
 "metadata": {
  "anaconda-cloud": {},
  "kernelspec": {
   "display_name": "Python 3 (ipykernel)",
   "language": "python",
   "name": "python3"
  },
  "language_info": {
   "codemirror_mode": {
    "name": "ipython",
    "version": 3
   },
   "file_extension": ".py",
   "mimetype": "text/x-python",
   "name": "python",
   "nbconvert_exporter": "python",
   "pygments_lexer": "ipython3",
   "version": "3.9.13"
  }
 },
 "nbformat": 4,
 "nbformat_minor": 4
}
